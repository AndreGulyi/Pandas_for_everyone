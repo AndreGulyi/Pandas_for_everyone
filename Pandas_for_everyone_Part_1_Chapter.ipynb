{
  "nbformat": 4,
  "nbformat_minor": 0,
  "metadata": {
    "colab": {
      "private_outputs": true,
      "provenance": [],
      "toc_visible": true,
      "mount_file_id": "1twVVi0CH7ZzsiVxXkG7uLWvB0qxFBxu5",
      "authorship_tag": "ABX9TyMfygbJtPgMwkwFznfLGnQQ",
      "include_colab_link": true
    },
    "kernelspec": {
      "name": "python3",
      "display_name": "Python 3"
    },
    "language_info": {
      "name": "python"
    }
  },
  "cells": [
    {
      "cell_type": "markdown",
      "metadata": {
        "id": "view-in-github",
        "colab_type": "text"
      },
      "source": [
        "<a href=\"https://colab.research.google.com/github/AndreGulyi/Pandas_for_everyone/blob/main/Pandas_for_everyone_Part_1_Chapter.ipynb\" target=\"_parent\"><img src=\"https://colab.research.google.com/assets/colab-badge.svg\" alt=\"Open In Colab\"/></a>"
      ]
    },
    {
      "cell_type": "code",
      "execution_count": null,
      "metadata": {
        "id": "BxRoBObC-Zba"
      },
      "outputs": [],
      "source": [
        "import pandas as pd\n",
        "import numpy as np"
      ]
    },
    {
      "cell_type": "markdown",
      "source": [],
      "metadata": {
        "id": "2Rs8K73KNAtG"
      }
    },
    {
      "cell_type": "markdown",
      "source": [
        "# Pandas DataFrame Basics"
      ],
      "metadata": {
        "id": "MEAXoYToND2O"
      }
    },
    {
      "cell_type": "markdown",
      "source": [
        "##1.2 Load Your First Data Set"
      ],
      "metadata": {
        "id": "DsQ_wXHQNYGP"
      }
    },
    {
      "cell_type": "code",
      "source": [
        "#The Gapminder data set originally comes from https://www.gapminder.org/."
      ],
      "metadata": {
        "id": "wwMWf6BkG-R7"
      },
      "execution_count": null,
      "outputs": []
    },
    {
      "cell_type": "code",
      "source": [
        "df = pd.read_csv('/content/drive/MyDrive/DataScience/AG:Pandas_for_everyone/data/gapminder.tsv', sep='\\t')"
      ],
      "metadata": {
        "id": "HkyZ7uBcHElL"
      },
      "execution_count": null,
      "outputs": []
    },
    {
      "cell_type": "markdown",
      "source": [
        "## 1.3 Look at Columns, Rows, and Cells"
      ],
      "metadata": {
        "id": "KQ2BkjOeNlZH"
      }
    },
    {
      "cell_type": "code",
      "source": [
        "df.head()"
      ],
      "metadata": {
        "id": "jFO3FlxyHYyZ"
      },
      "execution_count": null,
      "outputs": []
    },
    {
      "cell_type": "code",
      "source": [
        "#get type\n",
        "print(type(df))"
      ],
      "metadata": {
        "id": "clicKr8uHhkp"
      },
      "execution_count": null,
      "outputs": []
    },
    {
      "cell_type": "code",
      "source": [
        "# get the number of rows and columns\n",
        "print(df.shape)"
      ],
      "metadata": {
        "id": "TRbh4fe-HqFZ"
      },
      "execution_count": null,
      "outputs": []
    },
    {
      "cell_type": "code",
      "source": [
        "#get column names\n",
        "print(df.columns)"
      ],
      "metadata": {
        "id": "YG2NdCRMICJQ"
      },
      "execution_count": null,
      "outputs": []
    },
    {
      "cell_type": "code",
      "source": [
        "# get the dtype of each column\n",
        "print(df.dtypes)"
      ],
      "metadata": {
        "id": "aXwNWeWDITLN"
      },
      "execution_count": null,
      "outputs": []
    },
    {
      "cell_type": "code",
      "source": [
        "# get more information about our data\n",
        "print(df.info())"
      ],
      "metadata": {
        "id": "8EJ-ZLCTIZhx"
      },
      "execution_count": null,
      "outputs": []
    },
    {
      "cell_type": "code",
      "source": [
        "# show the first 5 observations\n",
        "print(df.head())"
      ],
      "metadata": {
        "id": "n-9cm00UIZ2E"
      },
      "execution_count": null,
      "outputs": []
    },
    {
      "cell_type": "code",
      "source": [
        "# just get the country column and save it to its own variable\n",
        "country_df = df['country']\n",
        "print(country_df.head())"
      ],
      "metadata": {
        "id": "YDKjEpG6IyAt"
      },
      "execution_count": null,
      "outputs": []
    },
    {
      "cell_type": "code",
      "source": [
        "# show the last 5 observations\n",
        "print(country_df.tail())"
      ],
      "metadata": {
        "id": "ijBiEqKHJG-k"
      },
      "execution_count": null,
      "outputs": []
    },
    {
      "cell_type": "code",
      "source": [
        "# Looking at country, continent, and year\n",
        "subset = df[['country', 'continent', 'year']]\n",
        "print(subset.head())"
      ],
      "metadata": {
        "id": "DuZa6o4VJPIu"
      },
      "execution_count": null,
      "outputs": []
    },
    {
      "cell_type": "code",
      "source": [
        "print(type(country_df))"
      ],
      "metadata": {
        "id": "_PNclB1oJdNf"
      },
      "execution_count": null,
      "outputs": []
    },
    {
      "cell_type": "code",
      "source": [
        "country_df_list = df[['country']] # note the double square bracket\n",
        "print(type(country_df_list))\n",
        "# If we use a list to subset, we will always get a DataFrame object back."
      ],
      "metadata": {
        "id": "kKlxfN_vJxh0"
      },
      "execution_count": null,
      "outputs": []
    },
    {
      "cell_type": "code",
      "source": [
        "# using square bracket notation\n",
        "print(df['country'])"
      ],
      "metadata": {
        "id": "11Mq-pykKRzc"
      },
      "execution_count": null,
      "outputs": []
    },
    {
      "cell_type": "code",
      "source": [
        "# using dot notation\n",
        "print(df.country)"
      ],
      "metadata": {
        "id": "bVAht7PpKS77"
      },
      "execution_count": null,
      "outputs": []
    },
    {
      "cell_type": "markdown",
      "source": [
        "###1.3.2.1 Subset Rows by index Label - .loc[]"
      ],
      "metadata": {
        "id": "OM6SZHfQKomJ"
      }
    },
    {
      "cell_type": "code",
      "source": [
        "# get the first row\n",
        "# python counts from 0\n",
        "print(df.loc[0])"
      ],
      "metadata": {
        "id": "GOJW9f7HKmBl"
      },
      "execution_count": null,
      "outputs": []
    },
    {
      "cell_type": "code",
      "source": [
        "# get the 100th row\n",
        "# python counts from 0\n",
        "print(df.loc[99])"
      ],
      "metadata": {
        "id": "tLR_slF_LVvy"
      },
      "execution_count": null,
      "outputs": []
    },
    {
      "cell_type": "code",
      "source": [
        "# get the last row (correctly)\n",
        "# use the first value given from shape to getthe number of rows\n",
        "number_of_rows = df.shape[0]\n",
        "# subtract 1 from the value since we want the last index value\n",
        "last_row_index = number_of_rows - 1\n",
        "# finally do the subset using the index of the last row\n",
        "print(df.loc[last_row_index])"
      ],
      "metadata": {
        "id": "IEr5lRAMLhvl"
      },
      "execution_count": null,
      "outputs": []
    },
    {
      "cell_type": "code",
      "source": [
        "# there are many ways of doing what you want\n",
        "print(df.tail(n=1))"
      ],
      "metadata": {
        "id": "WtWojiNBMGtZ"
      },
      "execution_count": null,
      "outputs": []
    },
    {
      "cell_type": "code",
      "source": [
        "# get the last row of data in different ways\n",
        "subset_loc = df.loc[0]\n",
        "subset_head = df.head(n=1)\n",
        "\n",
        "# type using loc of 1 row\n",
        "print(type(subset_loc))"
      ],
      "metadata": {
        "id": "wkGWqr3ZMbsn"
      },
      "execution_count": null,
      "outputs": []
    },
    {
      "cell_type": "code",
      "source": [
        "# type of using head of 1 row\n",
        "print(type(subset_head))"
      ],
      "metadata": {
        "id": "UheGDIhoMs4v"
      },
      "execution_count": null,
      "outputs": []
    },
    {
      "cell_type": "markdown",
      "source": [
        "###1.3.2.2 Subsetting Multiple Rows"
      ],
      "metadata": {
        "id": "pcrMy3wUM2bo"
      }
    },
    {
      "cell_type": "code",
      "source": [
        "print(df.loc[[0, 99, 999]])"
      ],
      "metadata": {
        "id": "EpFGgVlDMtMc"
      },
      "execution_count": null,
      "outputs": []
    },
    {
      "cell_type": "code",
      "source": [
        "# get the 2nd row\n",
        "print(df.iloc[1])"
      ],
      "metadata": {
        "id": "myr5aH_fOGN6"
      },
      "execution_count": null,
      "outputs": []
    },
    {
      "cell_type": "code",
      "source": [
        "## get the 100th row\n",
        "print(df.iloc[99])"
      ],
      "metadata": {
        "id": "IR4jQiUVOOBg"
      },
      "execution_count": null,
      "outputs": []
    },
    {
      "cell_type": "code",
      "source": [
        "# using -1 to get the last row\n",
        "print(df.iloc[-1])"
      ],
      "metadata": {
        "id": "sbpb_mdoORuq"
      },
      "execution_count": null,
      "outputs": []
    },
    {
      "cell_type": "code",
      "source": [
        "## get the first, 100th, and 1000th row\n",
        "print(df.iloc[[0, 99, 999]])"
      ],
      "metadata": {
        "id": "pz0_C3EXOXk2"
      },
      "execution_count": null,
      "outputs": []
    }
  ]
}